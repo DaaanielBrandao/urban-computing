{
 "cells": [
  {
   "cell_type": "code",
   "execution_count": 5,
   "metadata": {},
   "outputs": [],
   "source": [
    "# Using readlines()\n",
    "file1 = open('dataset_tsmc2014\\dataset_TSMC2014_NYC.txt', 'r')\n",
    "lines = file1.readlines()\n",
    " \n",
    "count = 0\n",
    "check_ins = {}\n",
    "poi_coos = {}\n",
    "poi_cat = {}\n",
    "normalized_vid = {}\n",
    "users = []\n",
    "num_venues = 0\n",
    "\n",
    "for line in lines:\n",
    "    line_split = line.split()\n",
    "    uid = int(line_split[0]) - 1\n",
    "    vid = line_split[1]\n",
    "    cid = line_split[2]\n",
    "    for i in range(4,9):\n",
    "        if line_split[i].replace('.','',1).replace('-','',1).isdigit():\n",
    "            lat = line_split[i]\n",
    "            lng = line_split[i+1]\n",
    "            break\n",
    "    \n",
    "    #coords,cat\n",
    "    if vid not in normalized_vid:\n",
    "        normalized_vid[vid] = vid = num_venues\n",
    "\n",
    "        poi_coos[vid]= (lat,lng)\n",
    "        poi_cat[vid]= cid\n",
    "        num_venues +=1\n",
    "    else:\n",
    "        vid = normalized_vid[vid]\n",
    "\n",
    "    #check ins\n",
    "    if(uid,vid) in check_ins:\n",
    "        check_ins[(uid,vid)] += 1\n",
    "    else:\n",
    "        check_ins[(uid,vid)] = 1\n",
    "\n",
    "    if uid not in users:\n",
    "        users.append(uid)\n",
    "num_user = len(users)"
   ]
  },
  {
   "cell_type": "code",
   "execution_count": 6,
   "metadata": {},
   "outputs": [],
   "source": [
    "with open('2_MGMPFM/new_data/fsq_data_size.txt', 'w') as f:\n",
    "    f.write(str(num_user) + ' ' + str(num_venues))\n",
    "\n",
    "with open('2_MGMPFM/new_data/fsq_pois_coos.txt', 'w') as f:\n",
    "    for i,s in poi_coos.items():\n",
    "        f.write(str(i) + ' ' + s[0] + ' ' + s[1] + '\\n')\n",
    "\n",
    "with open('2_MGMPFM/new_data/fsq_pois_cats.txt', 'w') as f:\n",
    "    for i,s in poi_cat.items():\n",
    "        f.write(str(i) + ' ' + s + '\\n')\n",
    "\n",
    "cnt = 0\n",
    "with open('2_MGMPFM/new_data/fsq_test.txt', 'w') as f1:\n",
    "    with open('2_MGMPFM/new_data/fsq_train.txt', 'w') as f2:\n",
    "        with open('2_MGMPFM/new_data/fsq_tune.txt', 'w') as f3:\n",
    "            for i,s in check_ins.items():\n",
    "                if cnt< 70000:\n",
    "                    f1.write(str(i[0]) + ' ' + str(i[1]) + ' ' + str(s) + '\\n')\n",
    "                elif cnt < 80000:\n",
    "                    f2.write(str(i[0]) + ' ' + str(i[1]) + ' ' + str(s) + '\\n')\n",
    "                else:\n",
    "                    f3.write(str(i[0]) + ' ' + str(i[1]) + ' ' + str(s) + '\\n')\n",
    "                cnt +=1\n",
    "\n"
   ]
  }
 ],
 "metadata": {
  "interpreter": {
   "hash": "3352614b04f6a771ec3a392566a3763a34cdc96a177f762027aa589f02ec5f67"
  },
  "kernelspec": {
   "display_name": "Python 3.8.2 32-bit",
   "language": "python",
   "name": "python3"
  },
  "language_info": {
   "codemirror_mode": {
    "name": "ipython",
    "version": 3
   },
   "file_extension": ".py",
   "mimetype": "text/x-python",
   "name": "python",
   "nbconvert_exporter": "python",
   "pygments_lexer": "ipython3",
   "version": "3.8.2"
  },
  "orig_nbformat": 4
 },
 "nbformat": 4,
 "nbformat_minor": 2
}
