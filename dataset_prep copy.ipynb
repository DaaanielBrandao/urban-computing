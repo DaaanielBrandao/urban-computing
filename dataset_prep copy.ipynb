{
 "cells": [
  {
   "cell_type": "code",
   "execution_count": 17,
   "metadata": {},
   "outputs": [],
   "source": [
    "# Using readlines()\r\n",
    "file1 = open('dataset_tsmc2014\\dataset_TSMC2014_NYC.txt', 'r')\r\n",
    "file2 = open('dataset_tsmc2014\\dataset_TSMC2014_TKY.txt', 'r')\r\n",
    "with open('dataset_tsmc2014\\dataset_TSMC2014_NYC.txt') as f:\r\n",
    "   file1_lines = sum(1 for _ in f)\r\n",
    "lines = file1.readlines() + file2.readlines()\r\n",
    "\r\n",
    "count = 0\r\n",
    "check_ins = {}\r\n",
    "poi_coos = {}\r\n",
    "poi_cat = {}\r\n",
    "normalized_vid = {}\r\n",
    "user_time_prefs_count = {}\r\n",
    "users = []\r\n",
    "num_venues = 0 \r\n",
    "\r\n",
    "for line in lines:\r\n",
    "    line_split = line.split()\r\n",
    "    if count == file1_lines:\r\n",
    "        users_file_1 = len(users)\r\n",
    "    uid = int(line_split[0]) - 1 if count < file1_lines else int(line_split[0]) - 1 + users_file_1\r\n",
    "    vid = line_split[1]\r\n",
    "    cid = line_split[2]\r\n",
    "    for i in range(4,9):\r\n",
    "        if line_split[i].replace('.','',1).replace('-','',1).isdigit():\r\n",
    "            lat = line_split[i]\r\n",
    "            lng = line_split[i+1]\r\n",
    "            break\r\n",
    "    \r\n",
    "    #coords,cat\r\n",
    "    if vid not in normalized_vid:\r\n",
    "        normalized_vid[vid] = vid = num_venues\r\n",
    "\r\n",
    "        poi_coos[vid]= (lat,lng)\r\n",
    "        poi_cat[vid]= cid\r\n",
    "        num_venues +=1\r\n",
    "    else:\r\n",
    "        vid = normalized_vid[vid]\r\n",
    "\r\n",
    "    #check ins\r\n",
    "    if(uid,vid) in check_ins:\r\n",
    "        check_ins[(uid,vid)] += 1\r\n",
    "    else:\r\n",
    "        check_ins[(uid,vid)] = 1\r\n",
    "\r\n",
    "    if uid not in users:\r\n",
    "        users.append(uid)\r\n",
    "    \r\n",
    "    totd = 'morning'\r\n",
    "    if uid not in user_time_prefs_count:\r\n",
    "        user_time_prefs_count[uid] = {}\r\n",
    "    if totd not in user_time_prefs_count[uid]:\r\n",
    "        user_time_prefs_count[uid][totd] = 1\r\n",
    "    else:\r\n",
    "        user_time_prefs_count[uid][totd] += 1\r\n",
    "    if count == 200:\r\n",
    "        break\r\n",
    "    count+= 1\r\n",
    "num_user = len(users)\r\n",
    "#print(num_user, len(check_ins))\r\n",
    "#print(user_time_prefs)"
   ]
  },
  {
   "cell_type": "code",
   "execution_count": 20,
   "metadata": {},
   "outputs": [
    {
     "name": "stdout",
     "output_type": "stream",
     "text": [
      "{469: 'morning', 978: 'morning', 68: 'morning', 394: 'morning', 86: 'morning', 483: 'morning', 641: 'morning', 291: 'morning', 427: 'morning', 876: 'morning', 624: 'morning', 690: 'morning', 115: 'morning', 930: 'morning', 52: 'morning', 444: 'morning', 134: 'morning', 894: 'morning', 703: 'morning', 890: 'morning', 283: 'morning', 900: 'morning', 802: 'morning', 698: 'morning', 99: 'morning', 442: 'morning', 688: 'morning', 389: 'morning', 31: 'morning', 229: 'morning', 833: 'morning', 961: 'morning', 1031: 'morning', 524: 'morning', 317: 'morning', 1046: 'morning', 737: 'morning', 363: 'morning', 397: 'morning', 838: 'morning', 423: 'morning', 750: 'morning', 888: 'morning', 611: 'morning', 642: 'morning', 717: 'morning', 767: 'morning', 14: 'morning', 457: 'morning', 279: 'morning', 1015: 'morning', 280: 'morning', 365: 'morning', 275: 'morning', 226: 'morning', 79: 'morning', 672: 'morning', 336: 'morning', 915: 'morning', 638: 'morning', 751: 'morning', 712: 'morning', 448: 'morning', 1011: 'morning', 748: 'morning', 437: 'morning', 216: 'morning', 655: 'morning', 224: 'morning', 627: 'morning', 503: 'morning', 225: 'morning', 163: 'morning', 234: 'morning', 117: 'morning', 1053: 'morning', 880: 'morning', 705: 'morning', 142: 'morning', 1004: 'morning', 911: 'morning', 536: 'morning', 405: 'morning', 867: 'morning', 1054: 'morning', 906: 'morning', 302: 'morning', 792: 'morning', 783: 'morning', 733: 'morning', 539: 'morning', 815: 'morning', 622: 'morning', 949: 'morning', 293: 'morning', 614: 'morning', 384: 'morning', 172: 'morning', 800: 'morning', 15: 'morning', 466: 'morning', 6: 'morning', 591: 'morning', 668: 'morning', 573: 'morning', 435: 'morning', 635: 'morning', 864: 'morning', 620: 'morning', 271: 'morning', 1062: 'morning', 590: 'morning', 975: 'morning', 561: 'morning', 782: 'morning', 318: 'morning', 467: 'morning', 873: 'morning', 106: 'morning', 666: 'morning', 556: 'morning', 724: 'morning', 773: 'morning', 879: 'morning', 287: 'morning', 334: 'morning', 768: 'morning', 193: 'morning', 402: 'morning', 572: 'morning', 345: 'morning', 967: 'morning', 538: 'morning', 183: 'morning', 143: 'morning', 70: 'morning', 687: 'morning', 64: 'morning', 884: 'morning', 266: 'morning'}\n"
     ]
    }
   ],
   "source": [
    "import operator\r\n",
    "#max(stats.iteritems(), key=operator.itemgetter(1))[0]\r\n",
    "user_time_prefs = {}\r\n",
    "for i,s in user_time_prefs_count.items():\r\n",
    "    user_time_prefs[i] = max(s.items(), key=operator.itemgetter(1))[0]\r\n",
    "\r\n"
   ]
  },
  {
   "cell_type": "code",
   "execution_count": 12,
   "metadata": {},
   "outputs": [
    {
     "name": "stdout",
     "output_type": "stream",
     "text": [
      "302979\n"
     ]
    }
   ],
   "source": [
    "import random\r\n",
    "with open('2_MGMPFM/new_data/fsq_data_size.txt', 'w') as f:\r\n",
    "    f.write(str(num_user) + ' ' + str(num_venues))\r\n",
    "\r\n",
    "with open('2_MGMPFM/new_data/fsq_pois_coos.txt', 'w') as f:\r\n",
    "    for i,s in poi_coos.items():\r\n",
    "        f.write(str(i) + ' ' + s[0] + ' ' + s[1] + '\\n')\r\n",
    "\r\n",
    "with open('2_MGMPFM/new_data/fsq_pois_cats.txt', 'w') as f:\r\n",
    "    for i,s in poi_cat.items():\r\n",
    "        f.write(str(i) + ' ' + s + '\\n')\r\n",
    "\r\n",
    "l = list(check_ins.items())\r\n",
    "random.shuffle(l)\r\n",
    "check_ins = dict(l)\r\n",
    "print(len(check_ins))\r\n",
    "cnt = 0\r\n",
    "with open('2_MGMPFM/new_data/fsq_test.txt', 'w') as f1:\r\n",
    "    with open('2_MGMPFM/new_data/fsq_train.txt', 'w') as f2:\r\n",
    "        with open('2_MGMPFM/new_data/fsq_tune.txt', 'w') as f3:\r\n",
    "            for i,s in check_ins.items():\r\n",
    "                if cnt< 250000:\r\n",
    "                    f1.write(str(i[0]) + ' ' + str(i[1]) + ' ' + str(s) + '\\n')\r\n",
    "                elif cnt < 280000:\r\n",
    "                    f2.write(str(i[0]) + ' ' + str(i[1]) + ' ' + str(s) + '\\n')\r\n",
    "                else:\r\n",
    "                    f3.write(str(i[0]) + ' ' + str(i[1]) + ' ' + str(s) + '\\n')\r\n",
    "                cnt +=1\r\n",
    "\r\n"
   ]
  }
 ],
 "metadata": {
  "interpreter": {
   "hash": "9518128f597d7b00dc14729602cfd87fb7b2cf75925976bcb0d0e328a830a12b"
  },
  "kernelspec": {
   "display_name": "Python 3.9.1 64-bit",
   "name": "python3"
  },
  "language_info": {
   "codemirror_mode": {
    "name": "ipython",
    "version": 3
   },
   "file_extension": ".py",
   "mimetype": "text/x-python",
   "name": "python",
   "nbconvert_exporter": "python",
   "pygments_lexer": "ipython3",
   "version": "3.9.1"
  },
  "orig_nbformat": 4
 },
 "nbformat": 4,
 "nbformat_minor": 2
}